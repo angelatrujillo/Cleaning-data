{
 "cells": [
  {
   "cell_type": "markdown",
   "metadata": {},
   "source": [
    "<img src=\"https://i.imgur.com/6U6q5jQ.png\"/>"
   ]
  },
  {
   "cell_type": "markdown",
   "metadata": {},
   "source": [
    "# Data Cleaning in Python"
   ]
  },
  {
   "cell_type": "markdown",
   "metadata": {},
   "source": [
    "The data we have collected may have several issues we need to identify:\n",
    "\n",
    "* Are there missing values? How are they represented?\n",
    "* Is the format of the table ready to be analyzed? Are there other elements not relevant but distracting or likely to confuse our work?\n",
    "* Is every cell well written? are there characters that may not allow future analysis?\n",
    "\n",
    "Let's check some data:"
   ]
  },
  {
   "cell_type": "code",
   "execution_count": 1,
   "metadata": {},
   "outputs": [
    {
     "data": {
      "text/plain": [
       "2"
      ]
     },
     "execution_count": 1,
     "metadata": {},
     "output_type": "execute_result"
    }
   ],
   "source": [
    "import pandas as pd\n",
    "\n",
    "wikiLink=\"https://en.wikipedia.org/wiki/List_of_freedom_indices\" \n",
    "freedomDFs=pd.read_html(wikiLink, flavor='bs4',attrs={'class':'wikitable sortable'})\n",
    "len(freedomDFs)"
   ]
  },
  {
   "cell_type": "markdown",
   "metadata": {},
   "source": [
    "Let's keep the first one:"
   ]
  },
  {
   "cell_type": "code",
   "execution_count": 2,
   "metadata": {},
   "outputs": [
    {
     "data": {
      "text/html": [
       "<div>\n",
       "<style scoped>\n",
       "    .dataframe tbody tr th:only-of-type {\n",
       "        vertical-align: middle;\n",
       "    }\n",
       "\n",
       "    .dataframe tbody tr th {\n",
       "        vertical-align: top;\n",
       "    }\n",
       "\n",
       "    .dataframe thead th {\n",
       "        text-align: right;\n",
       "    }\n",
       "</style>\n",
       "<table border=\"1\" class=\"dataframe\">\n",
       "  <thead>\n",
       "    <tr style=\"text-align: right;\">\n",
       "      <th></th>\n",
       "      <th>Country</th>\n",
       "      <th>Freedom in the World 2023[13]</th>\n",
       "      <th>Score</th>\n",
       "      <th>Index of Economic Freedom 2023[14]</th>\n",
       "      <th>Score.1</th>\n",
       "      <th>Press Freedom Index 2023[3]</th>\n",
       "      <th>Score.2</th>\n",
       "      <th>Democracy Index 2023[9]</th>\n",
       "      <th>Score.3</th>\n",
       "    </tr>\n",
       "  </thead>\n",
       "  <tbody>\n",
       "    <tr>\n",
       "      <th>0</th>\n",
       "      <td>Norway</td>\n",
       "      <td>free</td>\n",
       "      <td>100</td>\n",
       "      <td>mostly free</td>\n",
       "      <td>76.9</td>\n",
       "      <td>good</td>\n",
       "      <td>95.18</td>\n",
       "      <td>full democracy</td>\n",
       "      <td>9.81</td>\n",
       "    </tr>\n",
       "    <tr>\n",
       "      <th>1</th>\n",
       "      <td>Ireland</td>\n",
       "      <td>free</td>\n",
       "      <td>97</td>\n",
       "      <td>free</td>\n",
       "      <td>82</td>\n",
       "      <td>good</td>\n",
       "      <td>89.91</td>\n",
       "      <td>full democracy</td>\n",
       "      <td>9.05</td>\n",
       "    </tr>\n",
       "    <tr>\n",
       "      <th>2</th>\n",
       "      <td>Sweden</td>\n",
       "      <td>free</td>\n",
       "      <td>100</td>\n",
       "      <td>mostly free</td>\n",
       "      <td>77.5</td>\n",
       "      <td>good</td>\n",
       "      <td>88.15</td>\n",
       "      <td>full democracy</td>\n",
       "      <td>9.26</td>\n",
       "    </tr>\n",
       "    <tr>\n",
       "      <th>3</th>\n",
       "      <td>Finland</td>\n",
       "      <td>free</td>\n",
       "      <td>100</td>\n",
       "      <td>mostly free</td>\n",
       "      <td>77.1</td>\n",
       "      <td>good</td>\n",
       "      <td>87.94</td>\n",
       "      <td>full democracy</td>\n",
       "      <td>9.2</td>\n",
       "    </tr>\n",
       "    <tr>\n",
       "      <th>4</th>\n",
       "      <td>Denmark</td>\n",
       "      <td>free</td>\n",
       "      <td>97</td>\n",
       "      <td>mostly free</td>\n",
       "      <td>77.6</td>\n",
       "      <td>good</td>\n",
       "      <td>89.48</td>\n",
       "      <td>full democracy</td>\n",
       "      <td>9.15</td>\n",
       "    </tr>\n",
       "  </tbody>\n",
       "</table>\n",
       "</div>"
      ],
      "text/plain": [
       "   Country Freedom in the World 2023[13] Score  \\\n",
       "0   Norway                          free   100   \n",
       "1  Ireland                          free    97   \n",
       "2   Sweden                          free   100   \n",
       "3  Finland                          free   100   \n",
       "4  Denmark                          free    97   \n",
       "\n",
       "  Index of Economic Freedom 2023[14] Score.1 Press Freedom Index 2023[3]  \\\n",
       "0                        mostly free    76.9                        good   \n",
       "1                               free      82                        good   \n",
       "2                        mostly free    77.5                        good   \n",
       "3                        mostly free    77.1                        good   \n",
       "4                        mostly free    77.6                        good   \n",
       "\n",
       "  Score.2 Democracy Index 2023[9] Score.3  \n",
       "0   95.18          full democracy    9.81  \n",
       "1   89.91          full democracy    9.05  \n",
       "2   88.15          full democracy    9.26  \n",
       "3   87.94          full democracy     9.2  \n",
       "4   89.48          full democracy    9.15  "
      ]
     },
     "execution_count": 2,
     "metadata": {},
     "output_type": "execute_result"
    }
   ],
   "source": [
    "freedom=freedomDFs[0].copy()\n",
    "freedom.head()"
   ]
  },
  {
   "cell_type": "markdown",
   "metadata": {},
   "source": [
    "## 1. Clean headers"
   ]
  },
  {
   "cell_type": "code",
   "execution_count": 3,
   "metadata": {},
   "outputs": [
    {
     "data": {
      "text/plain": [
       "Index(['Country', 'Freedom in the World 2023[13]', 'Score',\n",
       "       'Index of Economic Freedom 2023[14]', 'Score.1',\n",
       "       'Press Freedom Index 2023[3]', 'Score.2', 'Democracy Index 2023[9]',\n",
       "       'Score.3'],\n",
       "      dtype='object')"
      ]
     },
     "execution_count": 3,
     "metadata": {},
     "output_type": "execute_result"
    }
   ],
   "source": [
    "# check headers\n",
    "freedom.columns"
   ]
  },
  {
   "cell_type": "markdown",
   "metadata": {},
   "source": [
    "Cleaning requires a strategy. In the strings above your main problem is the footnotes and the quasi-duplicates. "
   ]
  },
  {
   "cell_type": "code",
   "execution_count": 4,
   "metadata": {},
   "outputs": [
    {
     "data": {
      "text/plain": [
       "Index(['Score', 'Score.1', 'Score.2', 'Score.3'], dtype='object')"
      ]
     },
     "execution_count": 4,
     "metadata": {},
     "output_type": "execute_result"
    }
   ],
   "source": [
    "# the quasi duplicates\n",
    "ScoreColumns=freedom.columns[freedom.columns.str.contains('Scor')]\n",
    "ScoreColumns"
   ]
  },
  {
   "cell_type": "code",
   "execution_count": 5,
   "metadata": {},
   "outputs": [
    {
     "data": {
      "text/plain": [
       "Index(['Country', 'Freedom in the World 2023[13]',\n",
       "       'Index of Economic Freedom 2023[14]', 'Press Freedom Index 2023[3]',\n",
       "       'Democracy Index 2023[9]'],\n",
       "      dtype='object')"
      ]
     },
     "execution_count": 5,
     "metadata": {},
     "output_type": "execute_result"
    }
   ],
   "source": [
    "# the not quasi duplicates\n",
    "freedom.columns[~freedom.columns.str.contains('Scor')]"
   ]
  },
  {
   "cell_type": "code",
   "execution_count": 6,
   "metadata": {},
   "outputs": [
    {
     "data": {
      "text/plain": [
       "Index(['Freedom in the World 2023[13]', 'Index of Economic Freedom 2023[14]',\n",
       "       'Press Freedom Index 2023[3]', 'Democracy Index 2023[9]'],\n",
       "      dtype='object')"
      ]
     },
     "execution_count": 6,
     "metadata": {},
     "output_type": "execute_result"
    }
   ],
   "source": [
    "# save the last one but the first one:\n",
    "notScoreColumns=freedom.columns[~freedom.columns.str.contains('Scor')][1:]\n",
    "notScoreColumns"
   ]
  },
  {
   "cell_type": "markdown",
   "metadata": {},
   "source": [
    "Let's keep the last ones without the footnotes, let's _divide and conquer_ using **split()**:"
   ]
  },
  {
   "cell_type": "code",
   "execution_count": 7,
   "metadata": {},
   "outputs": [
    {
     "data": {
      "text/plain": [
       "[['Freedom in the World 2023', '13]'],\n",
       " ['Index of Economic Freedom 2023', '14]'],\n",
       " ['Press Freedom Index 2023', '3]'],\n",
       " ['Democracy Index 2023', '9]']]"
      ]
     },
     "execution_count": 7,
     "metadata": {},
     "output_type": "execute_result"
    }
   ],
   "source": [
    "# using list comprehension\n",
    "[element.split('[') for element in notScoreColumns]"
   ]
  },
  {
   "cell_type": "markdown",
   "metadata": {},
   "source": [
    "You see how I split each element, but the resulting list is not what you want, you need to keep the first element only:"
   ]
  },
  {
   "cell_type": "code",
   "execution_count": 8,
   "metadata": {},
   "outputs": [
    {
     "data": {
      "text/plain": [
       "['Freedom in the World 2023',\n",
       " 'Index of Economic Freedom 2023',\n",
       " 'Press Freedom Index 2023',\n",
       " 'Democracy Index 2023']"
      ]
     },
     "execution_count": 8,
     "metadata": {},
     "output_type": "execute_result"
    }
   ],
   "source": [
    "# keeping first element [0]\n",
    "[element.split('[')[0] for element in notScoreColumns]"
   ]
  },
  {
   "cell_type": "markdown",
   "metadata": {},
   "source": [
    "This is not bad at all. However, a more efficient alternative is using **regular expressions**. There are books about this topic, but I will share some patterns that may prove useful.\n",
    "\n",
    "In this situation, I want to:\n",
    "\n",
    "* Get rid of footnotes.\n",
    "* Get rid of the years.\n",
    "\n",
    "Let's see:"
   ]
  },
  {
   "cell_type": "code",
   "execution_count": 9,
   "metadata": {},
   "outputs": [
    {
     "data": {
      "text/plain": [
       "['Freedom in the World',\n",
       " 'Index of Economic Freedom',\n",
       " 'Press Freedom Index',\n",
       " 'Democracy Index']"
      ]
     },
     "execution_count": 9,
     "metadata": {},
     "output_type": "execute_result"
    }
   ],
   "source": [
    "import re  # a package to use regular expressions.\n",
    "\n",
    "# one or more consecutive number \\\\d+\n",
    "# anything that looks like \\\\[\\\\w+\\\\]\n",
    "# using '|' as or\n",
    "# using .strip() for unwanted spaces\n",
    "\n",
    "pattern='\\\\d+|\\\\[\\\\w+\\\\]'\n",
    "nothing=''\n",
    "\n",
    "#substitute the 'pattern' by 'nothing':\n",
    "[re.sub(pattern,nothing,element).strip() for element in notScoreColumns]"
   ]
  },
  {
   "cell_type": "code",
   "execution_count": 10,
   "metadata": {},
   "outputs": [],
   "source": [
    "#save result\n",
    "notScoreColumnsCleaner=[re.sub(pattern,nothing,element).strip() for element in notScoreColumns]"
   ]
  },
  {
   "cell_type": "markdown",
   "metadata": {},
   "source": [
    "Let's create acronyms:"
   ]
  },
  {
   "cell_type": "code",
   "execution_count": 11,
   "metadata": {},
   "outputs": [
    {
     "data": {
      "text/plain": [
       "[['Freedom', 'in', 'the', 'World'],\n",
       " ['Index', 'of', 'Economic', 'Freedom'],\n",
       " ['Press', 'Freedom', 'Index'],\n",
       " ['Democracy', 'Index']]"
      ]
     },
     "execution_count": 11,
     "metadata": {},
     "output_type": "execute_result"
    }
   ],
   "source": [
    "# split into list words\n",
    "[nameCol.split() for nameCol in notScoreColumnsCleaner]"
   ]
  },
  {
   "cell_type": "code",
   "execution_count": 12,
   "metadata": {},
   "outputs": [
    {
     "data": {
      "text/plain": [
       "[['F', 'i', 't', 'W'], ['I', 'o', 'E', 'F'], ['P', 'F', 'I'], ['D', 'I']]"
      ]
     },
     "execution_count": 12,
     "metadata": {},
     "output_type": "execute_result"
    }
   ],
   "source": [
    "# first letter of each word as list\n",
    "[[letter[0] for letter in nameCol.split()] for nameCol in notScoreColumnsCleaner]"
   ]
  },
  {
   "cell_type": "code",
   "execution_count": 13,
   "metadata": {},
   "outputs": [
    {
     "data": {
      "text/plain": [
       "['FitW', 'IoEF', 'PFI', 'DI']"
      ]
     },
     "execution_count": 13,
     "metadata": {},
     "output_type": "execute_result"
    }
   ],
   "source": [
    "# concatenate first letters in each list\n",
    "[\"\".join([letter[0] for letter in nameCol.split()]) for nameCol in notScoreColumnsCleaner]"
   ]
  },
  {
   "cell_type": "markdown",
   "metadata": {},
   "source": [
    "We saved the acronyms:"
   ]
  },
  {
   "cell_type": "code",
   "execution_count": 14,
   "metadata": {},
   "outputs": [
    {
     "data": {
      "text/plain": [
       "['FitW', 'IoEF', 'PFI', 'DI']"
      ]
     },
     "execution_count": 14,
     "metadata": {},
     "output_type": "execute_result"
    }
   ],
   "source": [
    "acronyms=[\"\".join([letter[0] for letter in nameCol.split()]) for nameCol in notScoreColumnsCleaner]\n",
    "acronyms"
   ]
  },
  {
   "cell_type": "markdown",
   "metadata": {},
   "source": [
    "We concatenate \"score\" to the acronyms into another list:"
   ]
  },
  {
   "cell_type": "code",
   "execution_count": 15,
   "metadata": {},
   "outputs": [
    {
     "data": {
      "text/plain": [
       "['FitW_score', 'IoEF_score', 'PFI_score', 'DI_score']"
      ]
     },
     "execution_count": 15,
     "metadata": {},
     "output_type": "execute_result"
    }
   ],
   "source": [
    "acronyms_score=[acro+'_score' for acro in acronyms]\n",
    "acronyms_score"
   ]
  },
  {
   "cell_type": "markdown",
   "metadata": {},
   "source": [
    "Let's rename:"
   ]
  },
  {
   "cell_type": "code",
   "execution_count": 16,
   "metadata": {},
   "outputs": [
    {
     "data": {
      "text/plain": [
       "{'Score': 'FitW_score',\n",
       " 'Score.1': 'IoEF_score',\n",
       " 'Score.2': 'PFI_score',\n",
       " 'Score.3': 'DI_score'}"
      ]
     },
     "execution_count": 16,
     "metadata": {},
     "output_type": "execute_result"
    }
   ],
   "source": [
    "change={old:new for old,new in zip(ScoreColumns,acronyms_score)}\n",
    "change"
   ]
  },
  {
   "cell_type": "code",
   "execution_count": 17,
   "metadata": {},
   "outputs": [
    {
     "data": {
      "text/plain": [
       "{'Freedom in the World 2023[13]': 'FitW',\n",
       " 'Index of Economic Freedom 2023[14]': 'IoEF',\n",
       " 'Press Freedom Index 2023[3]': 'PFI',\n",
       " 'Democracy Index 2023[9]': 'DI'}"
      ]
     },
     "execution_count": 17,
     "metadata": {},
     "output_type": "execute_result"
    }
   ],
   "source": [
    "change2={old:new for old,new in zip(notScoreColumns,acronyms)}\n",
    "change2"
   ]
  },
  {
   "cell_type": "code",
   "execution_count": 18,
   "metadata": {},
   "outputs": [
    {
     "data": {
      "text/plain": [
       "{'Score': 'FitW_score',\n",
       " 'Score.1': 'IoEF_score',\n",
       " 'Score.2': 'PFI_score',\n",
       " 'Score.3': 'DI_score',\n",
       " 'Freedom in the World 2023[13]': 'FitW',\n",
       " 'Index of Economic Freedom 2023[14]': 'IoEF',\n",
       " 'Press Freedom Index 2023[3]': 'PFI',\n",
       " 'Democracy Index 2023[9]': 'DI'}"
      ]
     },
     "execution_count": 18,
     "metadata": {},
     "output_type": "execute_result"
    }
   ],
   "source": [
    "change.update(change2)\n",
    "change"
   ]
  },
  {
   "cell_type": "code",
   "execution_count": 19,
   "metadata": {},
   "outputs": [
    {
     "data": {
      "text/html": [
       "<div>\n",
       "<style scoped>\n",
       "    .dataframe tbody tr th:only-of-type {\n",
       "        vertical-align: middle;\n",
       "    }\n",
       "\n",
       "    .dataframe tbody tr th {\n",
       "        vertical-align: top;\n",
       "    }\n",
       "\n",
       "    .dataframe thead th {\n",
       "        text-align: right;\n",
       "    }\n",
       "</style>\n",
       "<table border=\"1\" class=\"dataframe\">\n",
       "  <thead>\n",
       "    <tr style=\"text-align: right;\">\n",
       "      <th></th>\n",
       "      <th>Country</th>\n",
       "      <th>FitW</th>\n",
       "      <th>FitW_score</th>\n",
       "      <th>IoEF</th>\n",
       "      <th>IoEF_score</th>\n",
       "      <th>PFI</th>\n",
       "      <th>PFI_score</th>\n",
       "      <th>DI</th>\n",
       "      <th>DI_score</th>\n",
       "    </tr>\n",
       "  </thead>\n",
       "  <tbody>\n",
       "    <tr>\n",
       "      <th>0</th>\n",
       "      <td>Norway</td>\n",
       "      <td>free</td>\n",
       "      <td>100</td>\n",
       "      <td>mostly free</td>\n",
       "      <td>76.9</td>\n",
       "      <td>good</td>\n",
       "      <td>95.18</td>\n",
       "      <td>full democracy</td>\n",
       "      <td>9.81</td>\n",
       "    </tr>\n",
       "    <tr>\n",
       "      <th>1</th>\n",
       "      <td>Ireland</td>\n",
       "      <td>free</td>\n",
       "      <td>97</td>\n",
       "      <td>free</td>\n",
       "      <td>82</td>\n",
       "      <td>good</td>\n",
       "      <td>89.91</td>\n",
       "      <td>full democracy</td>\n",
       "      <td>9.05</td>\n",
       "    </tr>\n",
       "    <tr>\n",
       "      <th>2</th>\n",
       "      <td>Sweden</td>\n",
       "      <td>free</td>\n",
       "      <td>100</td>\n",
       "      <td>mostly free</td>\n",
       "      <td>77.5</td>\n",
       "      <td>good</td>\n",
       "      <td>88.15</td>\n",
       "      <td>full democracy</td>\n",
       "      <td>9.26</td>\n",
       "    </tr>\n",
       "    <tr>\n",
       "      <th>3</th>\n",
       "      <td>Finland</td>\n",
       "      <td>free</td>\n",
       "      <td>100</td>\n",
       "      <td>mostly free</td>\n",
       "      <td>77.1</td>\n",
       "      <td>good</td>\n",
       "      <td>87.94</td>\n",
       "      <td>full democracy</td>\n",
       "      <td>9.2</td>\n",
       "    </tr>\n",
       "    <tr>\n",
       "      <th>4</th>\n",
       "      <td>Denmark</td>\n",
       "      <td>free</td>\n",
       "      <td>97</td>\n",
       "      <td>mostly free</td>\n",
       "      <td>77.6</td>\n",
       "      <td>good</td>\n",
       "      <td>89.48</td>\n",
       "      <td>full democracy</td>\n",
       "      <td>9.15</td>\n",
       "    </tr>\n",
       "  </tbody>\n",
       "</table>\n",
       "</div>"
      ],
      "text/plain": [
       "   Country  FitW FitW_score         IoEF IoEF_score   PFI PFI_score  \\\n",
       "0   Norway  free        100  mostly free       76.9  good     95.18   \n",
       "1  Ireland  free         97         free         82  good     89.91   \n",
       "2   Sweden  free        100  mostly free       77.5  good     88.15   \n",
       "3  Finland  free        100  mostly free       77.1  good     87.94   \n",
       "4  Denmark  free         97  mostly free       77.6  good     89.48   \n",
       "\n",
       "               DI DI_score  \n",
       "0  full democracy     9.81  \n",
       "1  full democracy     9.05  \n",
       "2  full democracy     9.26  \n",
       "3  full democracy      9.2  \n",
       "4  full democracy     9.15  "
      ]
     },
     "execution_count": 19,
     "metadata": {},
     "output_type": "execute_result"
    }
   ],
   "source": [
    "freedom.rename(columns=change,inplace=True)\n",
    "freedom.head()"
   ]
  },
  {
   "cell_type": "markdown",
   "metadata": {},
   "source": [
    "## 2. Clean the data values.\n",
    "\n",
    "Since there are categories, we could try some frequency tables:"
   ]
  },
  {
   "cell_type": "code",
   "execution_count": 20,
   "metadata": {},
   "outputs": [
    {
     "data": {
      "text/plain": [
       "FitW\n",
       "free           84\n",
       "not free       57\n",
       "partly free    55\n",
       "NaN             1\n",
       "Name: count, dtype: int64"
      ]
     },
     "execution_count": 20,
     "metadata": {},
     "output_type": "execute_result"
    }
   ],
   "source": [
    "freedom.FitW.value_counts(dropna=False).sort_index()"
   ]
  },
  {
   "cell_type": "code",
   "execution_count": 21,
   "metadata": {},
   "outputs": [
    {
     "data": {
      "text/plain": [
       "IoEF\n",
       "free                4\n",
       "moderately free    56\n",
       "mostly free        23\n",
       "mostly unfree      65\n",
       "repressed          28\n",
       "NaN                21\n",
       "Name: count, dtype: int64"
      ]
     },
     "execution_count": 21,
     "metadata": {},
     "output_type": "execute_result"
    }
   ],
   "source": [
    "freedom.IoEF.value_counts(dropna=False).sort_index()"
   ]
  },
  {
   "cell_type": "code",
   "execution_count": 22,
   "metadata": {},
   "outputs": [
    {
     "data": {
      "text/plain": [
       "PFI\n",
       "difficult       42\n",
       "good             8\n",
       "problematic     59\n",
       "satisfactory    44\n",
       "very serious    31\n",
       "NaN             13\n",
       "Name: count, dtype: int64"
      ]
     },
     "execution_count": 22,
     "metadata": {},
     "output_type": "execute_result"
    }
   ],
   "source": [
    "freedom.PFI.value_counts(dropna=False).sort_index()"
   ]
  },
  {
   "cell_type": "code",
   "execution_count": 23,
   "metadata": {},
   "outputs": [
    {
     "data": {
      "text/plain": [
       "DI\n",
       "authoritarian regime    57\n",
       "flawed democracy        51\n",
       "full democracy          23\n",
       "hybrid regime           34\n",
       "NaN                     32\n",
       "Name: count, dtype: int64"
      ]
     },
     "execution_count": 23,
     "metadata": {},
     "output_type": "execute_result"
    }
   ],
   "source": [
    "freedom.DI.value_counts(dropna=False).sort_index()"
   ]
  },
  {
   "cell_type": "markdown",
   "metadata": {},
   "source": [
    "The categories are well written.\n",
    "\n",
    "Let's see the numeric columns. Let's identify cell that do not have numeric strings:\n"
   ]
  },
  {
   "cell_type": "code",
   "execution_count": null,
   "metadata": {},
   "outputs": [],
   "source": [
    "set(freedom.FitW_score[~freedom.FitW_score.str.contains('^\\\\d+\\\\.*\\\\d*$')])"
   ]
  },
  {
   "cell_type": "markdown",
   "metadata": {},
   "source": [
    "Then, we can generalize:"
   ]
  },
  {
   "cell_type": "code",
   "execution_count": null,
   "metadata": {},
   "outputs": [],
   "source": [
    "badValues=[]\n",
    "for col in acronyms_score:\n",
    "    currentBad=freedom.loc[:,col][~freedom.loc[:,col].str.contains('^\\\\d+\\\\.*\\\\d*$')]\n",
    "    badValues.extend(currentBad)\n",
    "\n",
    "badValues=list(set(badValues))\n",
    "badValues"
   ]
  },
  {
   "cell_type": "markdown",
   "metadata": {},
   "source": [
    "We will need to replace those values with a proper missing value:"
   ]
  },
  {
   "cell_type": "code",
   "execution_count": null,
   "metadata": {},
   "outputs": [],
   "source": [
    "import numpy as np\n",
    "\n",
    "freedom.replace(to_replace=badValues, value=np.nan,inplace=True)"
   ]
  },
  {
   "cell_type": "code",
   "execution_count": null,
   "metadata": {},
   "outputs": [],
   "source": [
    "freedom.info()"
   ]
  },
  {
   "cell_type": "markdown",
   "metadata": {},
   "source": [
    "Let's keep the complete data:"
   ]
  },
  {
   "cell_type": "code",
   "execution_count": null,
   "metadata": {},
   "outputs": [],
   "source": [
    "freedom.dropna(how='any',axis=0,inplace=True, # keep complete\n",
    "               ignore_index=True) # reset index\n",
    "\n",
    "freedom"
   ]
  },
  {
   "cell_type": "markdown",
   "metadata": {},
   "source": [
    "## 3. Check key column"
   ]
  },
  {
   "cell_type": "code",
   "execution_count": null,
   "metadata": {},
   "outputs": [],
   "source": [
    "freedom.Country"
   ]
  },
  {
   "cell_type": "code",
   "execution_count": null,
   "metadata": {},
   "outputs": [],
   "source": [
    "# to upper case and no trailing or leading spaces\n",
    "freedom.Country.str.upper().str.strip()"
   ]
  },
  {
   "cell_type": "code",
   "execution_count": null,
   "metadata": {},
   "outputs": [],
   "source": [
    "freedom['Country']=freedom.Country.str.upper().str.strip()"
   ]
  },
  {
   "cell_type": "markdown",
   "metadata": {},
   "source": [
    "## 4. Save output"
   ]
  },
  {
   "cell_type": "code",
   "execution_count": null,
   "metadata": {},
   "outputs": [],
   "source": [
    "freedom.to_csv('freedom_Py.csv',index=False)"
   ]
  },
  {
   "cell_type": "code",
   "execution_count": null,
   "metadata": {},
   "outputs": [],
   "source": []
  }
 ],
 "metadata": {
  "anaconda-cloud": {},
  "kernelspec": {
   "display_name": "Python 3 (ipykernel)",
   "language": "python",
   "name": "python3"
  },
  "language_info": {
   "codemirror_mode": {
    "name": "ipython",
    "version": 3
   },
   "file_extension": ".py",
   "mimetype": "text/x-python",
   "name": "python",
   "nbconvert_exporter": "python",
   "pygments_lexer": "ipython3",
   "version": "3.11.7"
  }
 },
 "nbformat": 4,
 "nbformat_minor": 4
}
