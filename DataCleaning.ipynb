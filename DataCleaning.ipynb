{
 "cells": [
  {
   "cell_type": "markdown",
   "metadata": {},
   "source": [
    "<img src=\"https://i.imgur.com/6U6q5jQ.png\"/>"
   ]
  },
  {
   "cell_type": "markdown",
   "metadata": {},
   "source": [
    "# Data Cleaning in Python"
   ]
  },
  {
   "cell_type": "markdown",
   "metadata": {},
   "source": [
    "The data we have collected may have several issues we need to identify:\n",
    "\n",
    "* Are there missing values? How are they represented?\n",
    "* Is the format of the table ready to be analyzed? Are there other elements not relevant but distracting or likely to confuse our work?\n",
    "* Is every cell well written? are there characters that may not allow future analysis?\n",
    "\n",
    "Let's check some data:"
   ]
  },
  {
   "cell_type": "code",
   "execution_count": null,
   "metadata": {},
   "outputs": [],
   "source": [
    "import pandas as pd\n",
    "\n",
    "wikiLink=\"https://en.wikipedia.org/wiki/List_of_freedom_indices\" \n",
    "freedomDFs=pd.read_html(wikiLink, flavor='bs4',attrs={'class':'wikitable sortable'})\n",
    "len(freedomDFs)"
   ]
  },
  {
   "cell_type": "markdown",
   "metadata": {},
   "source": [
    "Let's keep the first one:"
   ]
  },
  {
   "cell_type": "code",
   "execution_count": null,
   "metadata": {},
   "outputs": [],
   "source": [
    "freedom=freedomDFs[0].copy()\n",
    "freedom.head()"
   ]
  },
  {
   "cell_type": "markdown",
   "metadata": {},
   "source": [
    "## 1. Clean headers"
   ]
  },
  {
   "cell_type": "code",
   "execution_count": null,
   "metadata": {},
   "outputs": [],
   "source": [
    "# check headers\n",
    "freedom.columns"
   ]
  },
  {
   "cell_type": "markdown",
   "metadata": {},
   "source": [
    "Cleaning requires a strategy. In the strings above your main problem is the footnotes and the quasi-duplicates. "
   ]
  },
  {
   "cell_type": "code",
   "execution_count": null,
   "metadata": {},
   "outputs": [],
   "source": [
    "# the quasi duplicates\n",
    "ScoreColumns=freedom.columns[freedom.columns.str.contains('Scor')]\n",
    "ScoreColumns"
   ]
  },
  {
   "cell_type": "code",
   "execution_count": null,
   "metadata": {},
   "outputs": [],
   "source": [
    "# the not quasi duplicates\n",
    "freedom.columns[~freedom.columns.str.contains('Scor')]"
   ]
  },
  {
   "cell_type": "code",
   "execution_count": null,
   "metadata": {},
   "outputs": [],
   "source": [
    "# save the last one but the first one:\n",
    "notScoreColumns=freedom.columns[~freedom.columns.str.contains('Scor')][1:]\n",
    "notScoreColumns"
   ]
  },
  {
   "cell_type": "markdown",
   "metadata": {},
   "source": [
    "Let's keep the last ones without the footnotes, let's _divide and conquer_ using **split()**:"
   ]
  },
  {
   "cell_type": "code",
   "execution_count": null,
   "metadata": {},
   "outputs": [],
   "source": [
    "# using list comprehension\n",
    "[element.split('[') for element in notScoreColumns]"
   ]
  },
  {
   "cell_type": "markdown",
   "metadata": {},
   "source": [
    "You see how I split each element, but the resulting list is not what you want, you need to keep the first element only:"
   ]
  },
  {
   "cell_type": "code",
   "execution_count": null,
   "metadata": {},
   "outputs": [],
   "source": [
    "# keeping first element [0]\n",
    "[element.split('[')[0] for element in notScoreColumns]"
   ]
  },
  {
   "cell_type": "markdown",
   "metadata": {},
   "source": [
    "This is not bad at all. However, a more efficient alternative is using **regular expressions**. There are books about this topic, but I will share some patterns that may prove useful.\n",
    "\n",
    "In this situation, I want to:\n",
    "\n",
    "* Get rid of footnotes.\n",
    "* Get rid of the years.\n",
    "\n",
    "Let's see:"
   ]
  },
  {
   "cell_type": "code",
   "execution_count": null,
   "metadata": {},
   "outputs": [],
   "source": [
    "import re  # a package to use regular expressions.\n",
    "\n",
    "# one or more consecutive number \\\\d+\n",
    "# anything that looks like \\\\[\\\\w+\\\\]\n",
    "# using '|' as or\n",
    "# using .strip() for unwanted spaces\n",
    "\n",
    "pattern='\\\\d+|\\\\[\\\\w+\\\\]'\n",
    "nothing=''\n",
    "\n",
    "#substitute the 'pattern' by 'nothing':\n",
    "[re.sub(pattern,nothing,element).strip() for element in notScoreColumns]"
   ]
  },
  {
   "cell_type": "code",
   "execution_count": null,
   "metadata": {},
   "outputs": [],
   "source": [
    "#save result\n",
    "notScoreColumnsCleaner=[re.sub(pattern,nothing,element).strip() for element in notScoreColumns]"
   ]
  },
  {
   "cell_type": "markdown",
   "metadata": {},
   "source": [
    "Let's create acronyms:"
   ]
  },
  {
   "cell_type": "code",
   "execution_count": null,
   "metadata": {},
   "outputs": [],
   "source": [
    "# split into list words\n",
    "[nameCol.split() for nameCol in notScoreColumnsCleaner]"
   ]
  },
  {
   "cell_type": "code",
   "execution_count": null,
   "metadata": {},
   "outputs": [],
   "source": [
    "# first letter of each word as list\n",
    "[[letter[0] for letter in nameCol.split()] for nameCol in notScoreColumnsCleaner]"
   ]
  },
  {
   "cell_type": "code",
   "execution_count": null,
   "metadata": {},
   "outputs": [],
   "source": [
    "# concatenate first letters in each list\n",
    "[\"\".join([letter[0] for letter in nameCol.split()]) for nameCol in notScoreColumnsCleaner]"
   ]
  },
  {
   "cell_type": "markdown",
   "metadata": {},
   "source": [
    "We saved the acronyms:"
   ]
  },
  {
   "cell_type": "code",
   "execution_count": null,
   "metadata": {},
   "outputs": [],
   "source": [
    "acronyms=[\"\".join([letter[0] for letter in nameCol.split()]) for nameCol in notScoreColumnsCleaner]\n",
    "acronyms"
   ]
  },
  {
   "cell_type": "markdown",
   "metadata": {},
   "source": [
    "We concatenate \"score\" to the acronyms into another list:"
   ]
  },
  {
   "cell_type": "code",
   "execution_count": null,
   "metadata": {},
   "outputs": [],
   "source": [
    "acronyms_score=[acro+'_score' for acro in acronyms]\n",
    "acronyms_score"
   ]
  },
  {
   "cell_type": "markdown",
   "metadata": {},
   "source": [
    "Let's rename:"
   ]
  },
  {
   "cell_type": "code",
   "execution_count": null,
   "metadata": {},
   "outputs": [],
   "source": [
    "change={old:new for old,new in zip(ScoreColumns,acronyms_score)}\n",
    "change"
   ]
  },
  {
   "cell_type": "code",
   "execution_count": null,
   "metadata": {},
   "outputs": [],
   "source": [
    "change2={old:new for old,new in zip(notScoreColumns,acronyms)}\n",
    "change2"
   ]
  },
  {
   "cell_type": "code",
   "execution_count": null,
   "metadata": {},
   "outputs": [],
   "source": [
    "change.update(change2)\n",
    "change"
   ]
  },
  {
   "cell_type": "code",
   "execution_count": null,
   "metadata": {},
   "outputs": [],
   "source": [
    "freedom.rename(columns=change,inplace=True)\n",
    "freedom.head()"
   ]
  },
  {
   "cell_type": "markdown",
   "metadata": {},
   "source": [
    "## 2. Clean the data values.\n",
    "\n",
    "Since there are categories, we could try some frequency tables:"
   ]
  },
  {
   "cell_type": "code",
   "execution_count": null,
   "metadata": {},
   "outputs": [],
   "source": [
    "freedom.FitW.value_counts(dropna=False).sort_index()"
   ]
  },
  {
   "cell_type": "code",
   "execution_count": null,
   "metadata": {},
   "outputs": [],
   "source": [
    "freedom.IoEF.value_counts(dropna=False).sort_index()"
   ]
  },
  {
   "cell_type": "code",
   "execution_count": null,
   "metadata": {},
   "outputs": [],
   "source": [
    "freedom.PFI.value_counts(dropna=False).sort_index()"
   ]
  },
  {
   "cell_type": "code",
   "execution_count": null,
   "metadata": {},
   "outputs": [],
   "source": [
    "freedom.DI.value_counts(dropna=False).sort_index()"
   ]
  },
  {
   "cell_type": "markdown",
   "metadata": {},
   "source": [
    "The categories are well written.\n",
    "\n",
    "Let's see the numeric columns. Let's identify cell that do not have numeric strings:\n"
   ]
  },
  {
   "cell_type": "code",
   "execution_count": null,
   "metadata": {},
   "outputs": [],
   "source": [
    "set(freedom.FitW_score[~freedom.FitW_score.str.contains('^\\\\d+\\\\.*\\\\d*$')])"
   ]
  },
  {
   "cell_type": "markdown",
   "metadata": {},
   "source": [
    "Then, we can generalize:"
   ]
  },
  {
   "cell_type": "code",
   "execution_count": null,
   "metadata": {},
   "outputs": [],
   "source": [
    "badValues=[]\n",
    "for col in acronyms_score:\n",
    "    currentBad=freedom.loc[:,col][~freedom.loc[:,col].str.contains('^\\\\d+\\\\.*\\\\d*$')]\n",
    "    badValues.extend(currentBad)\n",
    "\n",
    "badValues=list(set(badValues))\n",
    "badValues"
   ]
  },
  {
   "cell_type": "markdown",
   "metadata": {},
   "source": [
    "We will need to replace those values with a proper missing value:"
   ]
  },
  {
   "cell_type": "code",
   "execution_count": null,
   "metadata": {},
   "outputs": [],
   "source": [
    "import numpy as np\n",
    "\n",
    "freedom.replace(to_replace=badValues, value=np.nan,inplace=True)"
   ]
  },
  {
   "cell_type": "code",
   "execution_count": null,
   "metadata": {},
   "outputs": [],
   "source": [
    "freedom.info()"
   ]
  },
  {
   "cell_type": "markdown",
   "metadata": {},
   "source": [
    "Let's keep the complete data:"
   ]
  },
  {
   "cell_type": "code",
   "execution_count": null,
   "metadata": {},
   "outputs": [],
   "source": [
    "freedom.dropna(how='any',axis=0,inplace=True, # keep complete\n",
    "               ignore_index=True) # reset index\n",
    "\n",
    "freedom"
   ]
  },
  {
   "cell_type": "markdown",
   "metadata": {},
   "source": [
    "## 3. Check key column"
   ]
  },
  {
   "cell_type": "code",
   "execution_count": null,
   "metadata": {},
   "outputs": [],
   "source": [
    "freedom.Country"
   ]
  },
  {
   "cell_type": "code",
   "execution_count": null,
   "metadata": {},
   "outputs": [],
   "source": [
    "# to upper case and no trailing or leading spaces\n",
    "freedom.Country.str.upper().str.strip()"
   ]
  },
  {
   "cell_type": "code",
   "execution_count": null,
   "metadata": {},
   "outputs": [],
   "source": [
    "freedom['Country']=freedom.Country.str.upper().str.strip()"
   ]
  },
  {
   "cell_type": "markdown",
   "metadata": {},
   "source": [
    "## 4. Save output"
   ]
  },
  {
   "cell_type": "code",
   "execution_count": null,
   "metadata": {},
   "outputs": [],
   "source": [
    "freedom.to_csv('freedom_Py.csv',index=False)"
   ]
  },
  {
   "cell_type": "code",
   "execution_count": null,
   "metadata": {},
   "outputs": [],
   "source": []
  }
 ],
 "metadata": {
  "anaconda-cloud": {},
  "kernelspec": {
   "display_name": "Python 3 (ipykernel)",
   "language": "python",
   "name": "python3"
  },
  "language_info": {
   "codemirror_mode": {
    "name": "ipython",
    "version": 3
   },
   "file_extension": ".py",
   "mimetype": "text/x-python",
   "name": "python",
   "nbconvert_exporter": "python",
   "pygments_lexer": "ipython3",
   "version": "3.12.0"
  }
 },
 "nbformat": 4,
 "nbformat_minor": 4
}
